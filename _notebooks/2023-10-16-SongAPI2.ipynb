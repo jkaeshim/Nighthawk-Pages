{
 "cells": [
  {
   "cell_type": "markdown",
   "metadata": {},
   "source": [
    "---\n",
    "toc: true\n",
    "comments: false\n",
    "layout: post\n",
    "title: SongAPI2\n",
    "description: Find Your Perfect Song\n",
    "type: plans\n",
    "courses: { compsci: {week: 3} }\n",
    "---"
   ]
  },
  {
   "cell_type": "raw",
   "metadata": {},
   "source": [
    "const axios = require('axios');\n",
    "\n",
    "async function searchMusic(artist, genre, length, year) {\n",
    "  // Generate random values if parameters are not provided\n",
    "  artist = artist || generateRandomValue();\n",
    "  genre = genre || generateRandomValue();\n",
    "  length = length || generateRandomLength();\n",
    "  year = year || generateRandomValue();\n",
    "\n",
    "  const options = {\n",
    "    method: 'GET',\n",
    "    url: 'https://shazam.p.rapidapi.com/songs/v2/get-details',\n",
    "    params: {\n",
    "      id: '1217912247',\n",
    "      l: 'en-US'\n",
    "    },\n",
    "    headers: {\n",
    "      'X-RapidAPI-Key': '102ce5e804msh0bcc957ccbd7b35p105d4ejsn021be17875a4',\n",
    "      'X-RapidAPI-Host': 'shazam.p.rapidapi.com'\n",
    "    }\n",
    "  };\n",
    "\n",
    "  try {\n",
    "    const response = await axios.request(options);\n",
    "    console.log('Search Parameters:', { artist, genre, length, year });\n",
    "    console.log('API Response:', response.data);\n",
    "  } catch (error) {\n",
    "    console.error('Error:', error);\n",
    "  }\n",
    "}\n",
    "\n",
    "function generateRandomValue() {\n",
    "  // Generate a random value (you can customize this based on your requirements)\n",
    "  return Math.floor(Math.random() * 100);\n",
    "}\n",
    "\n",
    "function generateRandomLength() {\n",
    "  // Generate a random length (in seconds) with a variation of ±15 seconds\n",
    "  const baseLength = 300; // Base length in seconds (you can adjust this as needed)\n",
    "  const variation = Math.floor(Math.random() * 31) - 15; // Random variation between -15 and 15 seconds\n",
    "  return baseLength + variation;\n",
    "}\n",
    "\n",
    "// Example usage\n",
    "searchMusic('Adele', 'Pop', null, 2015);\n"
   ]
  }
 ],
 "metadata": {
  "kernelspec": {
   "display_name": "Python 3",
   "language": "python",
   "name": "python3"
  },
  "language_info": {
   "codemirror_mode": {
    "name": "ipython",
    "version": 3
   },
   "file_extension": ".py",
   "mimetype": "text/x-python",
   "name": "python",
   "nbconvert_exporter": "python",
   "pygments_lexer": "ipython3",
   "version": "3.10.12"
  },
  "orig_nbformat": 4
 },
 "nbformat": 4,
 "nbformat_minor": 2
}
