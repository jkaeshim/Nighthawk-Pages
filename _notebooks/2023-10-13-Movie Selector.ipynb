{
 "cells": [
  {
   "cell_type": "markdown",
   "metadata": {},
   "source": [
    "---\n",
    "toc: true\n",
    "comments: false\n",
    "layout: post\n",
    "title: Movie API \n",
    "description: Find Your Perfect Movie\n",
    "type: plans\n",
    "courses: { compsci: {week: 2} }\n",
    "---"
   ]
  },
  {
   "cell_type": "code",
   "execution_count": null,
   "metadata": {
    "vscode": {
     "languageId": "javascript"
    }
   },
   "outputs": [],
   "source": [
    "const apiKey = \"bd74380ad0f3a6bc2db537543036493a\";\n",
    "const baseUrl = \"https://api.themoviedb.org/3/search/movie\";\n",
    "\n",
    "const searchForm = document.getElementById(\"search-form\");\n",
    "const resultsContainer = document.getElementById(\"results\");\n",
    "\n",
    "searchForm.addEventListener(\"submit\", function (event) {\n",
    "    event.preventDefault();\n",
    "\n",
    "    const actorName = document.getElementById(\"actor-name\").value;\n",
    "    const genre = document.getElementById(\"genre\").value;\n",
    "    const timeframe = document.getElementById(\"timeframe\").value;\n",
    "\n",
    "    const url = `${baseUrl}?api_key=${apiKey}&query=${actorName}&year=${timeframe}&with_genres=${genre}`;\n",
    "\n",
    "    fetch(url)\n",
    "        .then(response => response.json())\n",
    "        .then(data => {\n",
    "            resultsContainer.innerHTML = \"\"; // Clear previous results\n",
    "\n",
    "            for (const movie of data.results) {\n",
    "                const movieElement = document.createElement(\"div\");\n",
    "                movieElement.innerHTML = `<h2>${movie.title}</h2>`;\n",
    "                resultsContainer.appendChild(movieElement);\n",
    "            }\n",
    "        })\n",
    "        .catch(error => console.error(error));\n",
    "});\n"
   ]
  },
  {
   "cell_type": "raw",
   "metadata": {},
   "source": [
    "<!DOCTYPE html>\n",
    "<html>\n",
    "<head>\n",
    "    <title>Movie Search</title>\n",
    "    <link rel=\"stylesheet\" type=\"text/css\" href=\"styles.css\">\n",
    "</head>\n",
    "<body>\n",
    "    <div class=\"container\">\n",
    "        <h1>Movie Search</h1>\n",
    "        <form id=\"search-form\">\n",
    "            <div class=\"form-group\">\n",
    "                <label for=\"actor-name\">Actor's Name:</label>\n",
    "                <input type=\"text\" id=\"actor-name\" required>\n",
    "            </div>\n",
    "\n",
    "            <div class=\"form-group\">\n",
    "                <label for=\"genre\">Genre:</label>\n",
    "                <select id=\"genre\">\n",
    "                    <option value=\"action\">Action</option>\n",
    "                    <option value=\"comedy\">Comedy</option>\n",
    "                    <option value=\"drama\">Drama</option>\n",
    "                    <!-- Add more genre options -->\n",
    "                </select>\n",
    "            </div>\n",
    "\n",
    "            <div class=\"form-group\">\n",
    "                <label for=\"timeframe\">Timeframe:</label>\n",
    "                <input type=\"number\" id=\"timeframe\" min=\"1900\" max=\"2023\">\n",
    "            </div>\n",
    "\n",
    "            <button type=\"submit\">Search</button>\n",
    "        </form>\n",
    "\n",
    "        <div id=\"results\">\n",
    "            <!-- Movie results will be displayed here -->\n",
    "        </div>\n",
    "    </div>\n",
    "\n",
    "    <script src=\"script.js\"></script>\n",
    "</body>\n",
    "</html>\n"
   ]
  }
 ],
 "metadata": {
  "language_info": {
   "name": "python"
  }
 },
 "nbformat": 4,
 "nbformat_minor": 2
}
