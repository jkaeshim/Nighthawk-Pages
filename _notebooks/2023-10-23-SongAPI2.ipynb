{
 "cells": [
  {
   "cell_type": "markdown",
   "metadata": {},
   "source": [
    "---\n",
    "toc: true\n",
    "comments: false\n",
    "layout: post\n",
    "title: ShowAPI\n",
    "description: Find Your Perfect Show\n",
    "type: plans\n",
    "courses: { compsci: {week: 2} }\n",
    "---"
   ]
  },
  {
   "cell_type": "raw",
   "metadata": {},
   "source": [
    "import requests\n",
    "\n",
    "def get_top_shows_by_genre(genre):\n",
    "    try:\n",
    "        response = requests.get(f\"https://www.episodate.com/api/most-popular?page=1&genre={genre}\")\n",
    "\n",
    "        if response.status_code == 200:\n",
    "            shows = response.json()['tv_shows'][:15]  # Get the top 15 shows\n",
    "            return shows\n",
    "        else:\n",
    "            raise Exception(f\"Request failed with status code {response.status_code}\")\n",
    "    except Exception as error:\n",
    "        print('Error:', error)\n",
    "        return None\n",
    "\n",
    "genres = ['action', 'comedy', 'drama', 'sci-fi']\n",
    "\n",
    "def get_top_shows_for_genres(genres):\n",
    "    for genre in genres:\n",
    "        shows = get_top_shows_by_genre(genre)\n",
    "        if shows:\n",
    "            print(f\"Top 15 {genre} shows at the moment:\")\n",
    "            for index, show in enumerate(shows):\n",
    "                print(f\"{index + 1}. {show['name']}\")\n",
    "\n",
    "get_top_shows_for_genres(genres)\n"
   ]
  }
 ],
 "metadata": {
  "kernelspec": {
   "display_name": "Python 3",
   "language": "python",
   "name": "python3"
  },
  "language_info": {
   "codemirror_mode": {
    "name": "ipython",
    "version": 3
   },
   "file_extension": ".py",
   "mimetype": "text/x-python",
   "name": "python",
   "nbconvert_exporter": "python",
   "pygments_lexer": "ipython3",
   "version": "3.11.5"
  },
  "orig_nbformat": 4
 },
 "nbformat": 4,
 "nbformat_minor": 2
}
