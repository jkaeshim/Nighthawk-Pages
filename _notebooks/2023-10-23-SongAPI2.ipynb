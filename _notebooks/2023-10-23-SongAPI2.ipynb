{
 "cells": [
  {
   "cell_type": "code",
   "execution_count": null,
   "metadata": {},
   "outputs": [],
   "source": []
  },
  {
   "cell_type": "raw",
   "metadata": {},
   "source": [
    "const axios = require('axios');\n",
    "\n",
    "async function getTopShowsByGenre(genre) {\n",
    "    try {\n",
    "        // Make a GET request to the API with the genre and page parameters\n",
    "        const response = await axios.get(`https://www.episodate.com/api/most-popular?page=1&genre=${genre}`);\n",
    "\n",
    "        if (response.status === 200) {\n",
    "            const shows = response.data.tv_shows.slice(0, 15); // Get the top 15 shows\n",
    "            return shows;\n",
    "        } else {\n",
    "            throw new Error(`Request failed with status code ${response.status}`);\n",
    "        }\n",
    "    } catch (error) {\n",
    "        console.error('Error:', error.message);\n",
    "        return null;\n",
    "    }\n",
    "}\n",
    "\n",
    "// Replace 'action' with the desired genre\n",
    "const genre = 'action';\n",
    "\n",
    "getTopShowsByGenre(genre)\n",
    "    .then((shows) => {\n",
    "        if (shows) {\n",
    "            console.log(`Top 15 ${genre} shows at the moment:`);\n",
    "            shows.forEach((show, index) => {\n",
    "                console.log(`${index + 1}. ${show.name}`);\n",
    "            });\n",
    "        }\n",
    "    });\n"
   ]
  }
 ],
 "metadata": {
  "kernelspec": {
   "display_name": "Python 3",
   "language": "python",
   "name": "python3"
  },
  "language_info": {
   "codemirror_mode": {
    "name": "ipython",
    "version": 3
   },
   "file_extension": ".py",
   "mimetype": "text/x-python",
   "name": "python",
   "nbconvert_exporter": "python",
   "pygments_lexer": "ipython3",
   "version": "3.11.5"
  },
  "orig_nbformat": 4
 },
 "nbformat": 4,
 "nbformat_minor": 2
}
