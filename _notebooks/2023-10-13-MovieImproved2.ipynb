{
 "cells": [
  {
   "cell_type": "markdown",
   "metadata": {},
   "source": [
    "---\n",
    "toc: true\n",
    "comments: false\n",
    "layout: post\n",
    "title: Movie API Improved2\n",
    "description: Find Your Perfect Movie\n",
    "type: plans\n",
    "courses: { compsci: {week: 2} }\n",
    "---"
   ]
  },
  {
   "cell_type": "raw",
   "metadata": {},
   "source": [
    "import requests\n",
    "\n",
    "def get_movie_info(movie_title):\n",
    "    api_key = \"c61c2555\"  # Use the provided OMDB API key\n",
    "    url = f\"http://www.omdbapi.com/?i=tt3896198&apikey={api_key}\"\n",
    "\n",
    "    params = {\n",
    "        's': movie_title,\n",
    "        'type': 'movie',\n",
    "        'plot': 'short',\n",
    "        'r': 'json',\n",
    "        'page': 1  # Fetch first page of results\n",
    "    }\n",
    "\n",
    "    try:\n",
    "        response = requests.get(url, params=params)\n",
    "        data = response.json()\n",
    "\n",
    "        if data['Response'] == 'True':\n",
    "            movies = data['Search'][:3]  # Display up to 3 movies\n",
    "\n",
    "            for movie in movies:\n",
    "                print(\"Lead Actor:\", movie['Actors'])\n",
    "                print(\"Year:\", movie['Year'])\n",
    "                print(\"Genre:\", movie['Genre'])\n",
    "                print(\"\\n\")\n",
    "\n",
    "        else:\n",
    "            print(\"No movies found.\")\n",
    "\n",
    "    except requests.exceptions.RequestException as e:\n",
    "        print(\"Error:\", e)\n",
    "\n",
    "if __name__ == \"__main__\":\n",
    "    movie_title = input(\"Enter a movie title: \")\n",
    "    get_movie_info(movie_title)\n"
   ]
  }
 ],
 "metadata": {
  "kernelspec": {
   "display_name": "Python 3",
   "language": "python",
   "name": "python3"
  },
  "language_info": {
   "codemirror_mode": {
    "name": "ipython",
    "version": 3
   },
   "file_extension": ".py",
   "mimetype": "text/x-python",
   "name": "python",
   "nbconvert_exporter": "python",
   "pygments_lexer": "ipython3",
   "version": "3.11.5"
  },
  "orig_nbformat": 4
 },
 "nbformat": 4,
 "nbformat_minor": 2
}
