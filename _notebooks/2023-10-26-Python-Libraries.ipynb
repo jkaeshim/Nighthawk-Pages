{
 "cells": [
  {
   "cell_type": "markdown",
   "metadata": {},
   "source": [
    "---\n",
    "toc: true\n",
    "comments: true\n",
    "layout: post\n",
    "title: Student Lesson Python Libraries\n",
    "description: To teach the class how to use public Python libraries around the internet\n",
    "type: hacks\n",
    "courses: { Movie Search: {week: 3} }\n",
    "---"
   ]
  },
  {
   "cell_type": "code",
   "execution_count": null,
   "metadata": {
    "vscode": {
     "languageId": "plaintext"
    }
   },
   "outputs": [],
   "source": [
    "PLAN:\n",
    "1. Defintion of a library, connect to previous lessons like procedures and how are they useful for coding\n",
    "2. Show the format of a library in use, using familar libraries and in hack 1 tell them to integrate the library into the code\n",
    "3. Introduce them the many libraries availiable, one at a time, and tell them their uses (provide examples for every one of them)\n",
    "4. Introduce 1-2 per hack, going to be at least 3-4 hacks\n",
    "5. HW TIME, ask them to replace the code with a library, create a program according to the requirements(>%90 availiable)"
   ]
  },
  {
   "cell_type": "markdown",
   "metadata": {},
   "source": [
    "List of Libraries to Focus On:\n",
    "Introduce existing libraries we have been using\n",
    "- math, request and random\n",
    "Quickly summarize each of them and have examples\n",
    "Hack #1: Replace code with a function from a python library (use math and make sure the function required to use is in the lesson)\n",
    "Introduce the first two "
   ]
  },
  {
   "cell_type": "markdown",
   "metadata": {},
   "source": [
    "### What is a Library?\n",
    "Essentially a list of pre-written code that you can use to streamline and clean up your program\n"
   ]
  }
 ],
 "metadata": {
  "language_info": {
   "name": "python"
  }
 },
 "nbformat": 4,
 "nbformat_minor": 2
}
