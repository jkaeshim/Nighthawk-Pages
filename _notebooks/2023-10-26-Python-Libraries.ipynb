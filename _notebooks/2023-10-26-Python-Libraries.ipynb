{
 "cells": [
  {
   "cell_type": "markdown",
   "metadata": {},
   "source": [
    "---\n",
    "toc: true\n",
    "comments: true\n",
    "layout: post\n",
    "title: Student Lesson Python Libraries\n",
    "description: To teach the class how to use public Python libraries around the internet\n",
    "type: hacks\n",
    "courses: { Movie Search: {week: 3} }\n",
    "---"
   ]
  },
  {
   "cell_type": "code",
   "execution_count": null,
   "metadata": {
    "vscode": {
     "languageId": "plaintext"
    }
   },
   "outputs": [],
   "source": [
    "PLAN:\n",
    "1. Defintion of a library, connect to previous lessons like procedures and how are they useful for coding\n",
    "2. Show the format of a library in use (Python and Psuedocode), and in hack 1 tell them to integrate the library into the code\n",
    "3. Introduce them the many libraries availaible, one at a time, and tell them their uses\n",
    "4. Introduce 1-2 per hack, going to be at least 3-4 hacks\n",
    "5. HW TIME, ask them to replace the code with a library, create a program according to the requirements(>%90 availiable) then another question probably in pseudocode"
   ]
  }
 ],
 "metadata": {
  "language_info": {
   "name": "python"
  }
 },
 "nbformat": 4,
 "nbformat_minor": 2
}
