const axios = require('axios');

async function getTopShowsByGenre(genre) {
    try {
        // Make a GET request to the API with the genre and page parameters
        const response = await axios.get(`https://www.episodate.com/api/most-popular?page=1&genre=${genre}`);

        if (response.status === 200) {
            const shows = response.data.tv_shows.slice(0, 15); // Get the top 15 shows
            return shows;
        } else {
            throw new Error(`Request failed with status code ${response.status}`);
        }
    } catch (error) {
        console.error('Error:', error.message);
        return null;
    }
}

// Replace 'action' with the desired genre
const genre = 'action';

getTopShowsByGenre(genre)
    .then((shows) => {
        if (shows) {
            console.log(`Top 15 ${genre} shows at the moment:`);
            shows.forEach((show, index) => {
                console.log(`${index + 1}. ${show.name}`);
            });
        }
    });
