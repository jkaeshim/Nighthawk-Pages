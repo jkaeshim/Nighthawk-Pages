{
 "cells": [
  {
   "cell_type": "markdown",
   "metadata": {},
   "source": [
    "---\n",
    "toc: true\n",
    "comments: false\n",
    "layout: post\n",
    "title: SongAPI\n",
    "description: Find Your Perfect Movie\n",
    "type: plans\n",
    "courses: { compsci: {week: 3} }\n",
    "---"
   ]
  },
  {
   "cell_type": "raw",
   "metadata": {},
   "source": [
    "<!DOCTYPE html>\n",
    "<html lang=\"en\">\n",
    "<head>\n",
    "    <meta charset=\"UTF-8\">\n",
    "    <meta name=\"viewport\" content=\"width=device-width, initial-scale=1.0\">\n",
    "    <title>Music API</title>\n",
    "</head>\n",
    "<body>\n",
    "    <h1>Music Information</h1>\n",
    "    <form id=\"musicForm\">\n",
    "        <label for=\"genre\">Genre:</label>\n",
    "        <input type=\"text\" id=\"genre\" name=\"genre\"><br><br>\n",
    "\n",
    "        <label for=\"length\">Length:</label>\n",
    "        <input type=\"text\" id=\"length\" name=\"length\"><br><br>\n",
    "\n",
    "        <label for=\"artist\">Artist:</label>\n",
    "        <input type=\"text\" id=\"artist\" name=\"artist\"><br><br>\n",
    "\n",
    "        <label for=\"date\">Year of Release:</label>\n",
    "        <input type=\"text\" id=\"date\" name=\"date\"><br><br>\n",
    "\n",
    "        <input type=\"submit\" value=\"Get Music\">\n",
    "    </form>\n",
    "\n",
    "    <div id=\"result\"></div>\n",
    "\n",
    "    <script>\n",
    "        document.getElementById('musicForm').addEventListener('submit', function(event) {\n",
    "            event.preventDefault();\n",
    "\n",
    "            const genre = document.getElementById('genre').value || '.*';\n",
    "            const length = document.getElementById('length').value || '.*';\n",
    "            const artist = document.getElementById('artist').value || '.*';\n",
    "            const date = document.getElementById('date').value || '.*';\n",
    "\n",
    "            const apiUrl = `http://localhost:5000/music?genre=${genre}&length=${length}&artist=${artist}&date=${date}`;\n",
    "\n",
    "            fetch(apiUrl)\n",
    "                .then(response => response.json())\n",
    "                .then(data => {\n",
    "                    const resultDiv = document.getElementById('result');\n",
    "                    resultDiv.innerHTML = JSON.stringify(data, null, 2);\n",
    "                })\n",
    "                .catch(error => console.error('Error:', error));\n",
    "        });\n",
    "    </script>\n",
    "</body>\n",
    "</html>\n"
   ]
  }
 ],
 "metadata": {
  "language_info": {
   "name": "python"
  },
  "orig_nbformat": 4
 },
 "nbformat": 4,
 "nbformat_minor": 2
}
