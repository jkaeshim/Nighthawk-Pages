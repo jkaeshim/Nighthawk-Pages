{
 "cells": [
  {
   "cell_type": "markdown",
   "metadata": {},
   "source": [
    "---\n",
    "toc: true\n",
    "comments: false\n",
    "layout: post\n",
    "title: SongAPI\n",
    "description: Find Your Perfect Song\n",
    "type: plans\n",
    "courses: { compsci: {week: 3} }\n",
    "---"
   ]
  },
  {
   "cell_type": "raw",
   "metadata": {},
   "source": [
    "var myHeaders = new Headers();\n",
    "myHeaders.append(\"Content-Type\", \"application/json\");\n",
    "var requestOptions = {\n",
    "    method: \"get\",\n",
    "    headers: myHeaders,\n",
    "    redirect: \"follow\",\n",
    "    \n",
    "};\n",
    "\n",
    "fetch(\"https://v1.nocodeapi.com/jakeshim/spotify/gYJPBKzbVypPVhjU/browse/featured?country=us\", requestOptions)\n",
    "    .then(response => response.text())\n",
    "    .then(result => console.log(result))\n",
    "    .catch(error => console.log('error', error));"
   ]
  }
 ],
 "metadata": {
  "kernelspec": {
   "display_name": "Python 3",
   "language": "python",
   "name": "python3"
  },
  "language_info": {
   "codemirror_mode": {
    "name": "ipython",
    "version": 3
   },
   "file_extension": ".py",
   "mimetype": "text/x-python",
   "name": "python",
   "nbconvert_exporter": "python",
   "pygments_lexer": "ipython3",
   "version": "3.11.5"
  },
  "orig_nbformat": 4
 },
 "nbformat": 4,
 "nbformat_minor": 2
}
