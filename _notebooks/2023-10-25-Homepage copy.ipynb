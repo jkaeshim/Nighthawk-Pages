{
 "cells": [
  {
   "cell_type": "code",
   "execution_count": null,
   "metadata": {
    "vscode": {
     "languageId": "html"
    }
   },
   "outputs": [],
   "source": [
    "---\n",
    "toc: true\n",
    "comments: false\n",
    "layout: post\n",
    "title: Home\n",
    "description: Navigator\n",
    "type: plans\n",
    "courses: { compsci: {week: 2} }\n",
    "---"
   ]
  },
  {
   "cell_type": "code",
   "execution_count": null,
   "metadata": {
    "vscode": {
     "languageId": "html"
    }
   },
   "outputs": [],
   "source": [
    "<!DOCTYPE html>\n",
    "<html>\n",
    "<head>\n",
    "    <title>Search Homepage</title>\n",
    "</head>\n",
    "<body>\n",
    "    <h1>Welcome to the Search Homepage</h1>\n",
    "    <p>Choose what you want to search for:</p>\n",
    "\n",
    "    <div>\n",
    "        <a href=\"_notebooks/2023-10-12-MovieImproved.ipynb\">\n",
    "            <button>Movie Search</button>\n",
    "        </a>\n",
    "    </div>\n",
    "\n",
    "    <div>\n",
    "        <a href=\"_notebooks/2023-10-13-SongAPI.ipynb\">\n",
    "            <button>Song Search</button>\n",
    "        </a>\n",
    "    </div>\n",
    "\n",
    "    <div>\n",
    "        <a href=\"_notebooks/2023-10-23-ShowAPI.ipynb\">\n",
    "            <button>Show Search</button>\n",
    "        </a>\n",
    "    </div>\n",
    "</body>\n",
    "</html>\n"
   ]
  }
 ],
 "metadata": {
  "language_info": {
   "name": "python"
  }
 },
 "nbformat": 4,
 "nbformat_minor": 2
}
