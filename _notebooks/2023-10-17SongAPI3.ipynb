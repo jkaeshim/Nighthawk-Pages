{
 "cells": [
  {
   "cell_type": "raw",
   "metadata": {},
   "source": [
    "import requests\n",
    "\n",
    "def search_songs_by_artist_genre(artist, genre):\n",
    "    url = \"https://shazam-api6.p.rapidapi.com/songs/list-artist-top-tracks\"\n",
    "\n",
    "    querystring = {\"id\":\"40008598\",\"locale\":\"en-US\"}\n",
    "\n",
    "    headers = {\n",
    "        \"X-RapidAPI-Key\": \"102ce5e804msh0bcc957ccbd7b35p105d4ejsn021be17875a4\",\n",
    "        \"X-RapidAPI-Host\": \"shazam-api6.p.rapidapi.com\"\n",
    "    }\n",
    "\n",
    "    response = requests.get(url, headers=headers, params=querystring)\n",
    "    \n",
    "    if response.status_code == 200:\n",
    "        data = response.json()\n",
    "        songs = data['tracks']['hits']\n",
    "\n",
    "        songs_list = []\n",
    "\n",
    "        for song in songs:\n",
    "            song_title = song['track']['title']\n",
    "            song_length = song['track']['duration']\n",
    "\n",
    "            songs_list.append({\n",
    "                'title': song_title,\n",
    "                'length': song_length\n",
    "            })\n",
    "\n",
    "        return songs_list\n",
    "    else:\n",
    "        print('Failed to fetch songs. Status code:', response.status_code)\n",
    "        return None\n",
    "\n",
    "# Example usage\n",
    "artist_name = input(\"Enter the artist's name: \")\n",
    "genre = input(\"Enter the genre: \")\n",
    "\n",
    "songs = search_songs_by_artist_genre(artist_name, genre)\n",
    "\n",
    "if songs:\n",
    "    print(f\"Songs by {artist_name} in the {genre} genre:\")\n",
    "    for song in songs:\n",
    "        print(f\"Title: {song['title']}, Length: {song['length']} seconds\")\n",
    "else:\n",
    "    print(\"No songs found.\")\n"
   ]
  }
 ],
 "metadata": {
  "kernelspec": {
   "display_name": "Python 3",
   "language": "python",
   "name": "python3"
  },
  "language_info": {
   "codemirror_mode": {
    "name": "ipython",
    "version": 3
   },
   "file_extension": ".py",
   "mimetype": "text/x-python",
   "name": "python",
   "nbconvert_exporter": "python",
   "pygments_lexer": "ipython3",
   "version": "3.11.5"
  },
  "orig_nbformat": 4
 },
 "nbformat": 4,
 "nbformat_minor": 2
}
