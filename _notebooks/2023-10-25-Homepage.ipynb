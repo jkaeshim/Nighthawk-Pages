{
 "cells": [
  {
   "cell_type": "code",
   "execution_count": null,
   "metadata": {
    "vscode": {
     "languageId": "html"
    }
   },
   "outputs": [],
   "source": [
    "---\n",
    "toc: true\n",
    "comments: false\n",
    "layout: post\n",
    "title: Home\n",
    "description: Navigator\n",
    "type: plans\n",
    "courses: { compsci: {week: 2} }\n",
    "---"
   ]
  },
  {
   "cell_type": "raw",
   "metadata": {},
   "source": [
    "<!DOCTYPE html>\n",
    "<html>\n",
    "<head>\n",
    "    <title>Searchers</title>\n",
    "</head>\n",
    "<body>\n",
    "    <button id=\"movieButton\">Movie Searcher</button>\n",
    "    <button id=\"songButton\">Song Searcher</button>\n",
    "    <button id=\"showButton\">Show Searcher</button>\n",
    "\n",
    "    <script>\n",
    "        // Add click event listeners to the buttons\n",
    "        document.getElementById(\"movieButton\").addEventListener(\"click\", function() {\n",
    "            // Redirect to the specified movie link\n",
    "            window.location.href = \"https://jkaeshim.github.io/Nighthawk-Pages//2023/10/12/MovieImproved_IPYNB_2_.html\";\n",
    "        });\n",
    "\n",
    "        document.getElementById(\"songButton\").addEventListener(\"click\", function() {\n",
    "            // Redirect to the specified song link\n",
    "            window.location.href = \"https://jkaeshim.github.io/Nighthawk-Pages//2023/10/13/SongAPI_IPYNB_2_.html\";\n",
    "        });\n",
    "\n",
    "        document.getElementById(\"showButton\").addEventListener(\"click\", function() {\n",
    "            // Redirect to the specified show link\n",
    "            window.location.href = \"https://jkaeshim.github.io/Nighthawk-Pages//2023/10/23/ShowAPI_IPYNB_2_.html\";\n",
    "        });\n",
    "    </script>\n",
    "</body>\n",
    "</html>\n"
   ]
  }
 ],
 "metadata": {
  "language_info": {
   "name": "python"
  }
 },
 "nbformat": 4,
 "nbformat_minor": 2
}
