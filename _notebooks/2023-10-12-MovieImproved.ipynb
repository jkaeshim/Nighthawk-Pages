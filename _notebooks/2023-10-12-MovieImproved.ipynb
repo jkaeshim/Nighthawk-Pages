{
 "cells": [
  {
   "cell_type": "markdown",
   "metadata": {},
   "source": [
    "---\n",
    "toc: true\n",
    "comments: false\n",
    "layout: post\n",
    "title: Movie API Improved\n",
    "description: Find Your Perfect Movie\n",
    "type: plans\n",
    "courses: { compsci: {week: 2} }\n",
    "---"
   ]
  },
  {
   "cell_type": "markdown",
   "metadata": {},
   "source": [
    "![TV](https://media.tenor.com/j86PjtdiAAUAAAAd/fight-club.gif)\n"
   ]
  },
  {
   "cell_type": "raw",
   "metadata": {},
   "source": [
    "<html>\n",
    "<head>\n",
    "    <title>Movie Details</title>\n",
    "</head>\n",
    "<body>\n",
    "    <h1>Movie Details</h1>\n",
    "    <button type=\"button\" onclick=\"getMovieDetails()\">Get Movie Details</button>\n",
    "\n",
    "    <h2>Movie:</h2>\n",
    "    <ul id=\"movieDetails\"></ul>\n",
    "\n",
    "    <h2>Favorites:</h2>\n",
    "    <ul id=\"favoriteMovies\"></ul>\n",
    "\n",
    "    <script>\n",
    "        const apiKey = 'bd74380ad0f3a6bc2db537543036493a'; // Replace with your actual API key\n",
    "\n",
    "        function getMovieDetails() {\n",
    "            const apiUrl = `https://api.themoviedb.org/3/movie/550?api_key=${apiKey}`;\n",
    "\n",
    "            fetch(apiUrl)\n",
    "                .then(response => response.json())\n",
    "                .then(movie => {\n",
    "                    const movieDetailsList = document.getElementById('movieDetails');\n",
    "                    movieDetailsList.innerHTML = '';\n",
    "\n",
    "                    const movieTitle = movie.title;\n",
    "                    const releaseDate = movie.release_date ? new Date(movie.release_date).getFullYear() : 'N/A';\n",
    "                    const rating = movie.vote_average || 'N/A';\n",
    "                    const listItem = document.createElement('li');\n",
    "                    listItem.innerHTML = `${movieTitle} (Release Date: ${releaseDate}, Rating: ${rating}/10) \n",
    "                                          <button onclick=\"addFavorite('${movieTitle}', '${releaseDate}', '${rating}')\">Favorite</button>`;\n",
    "                    movieDetailsList.appendChild(listItem);\n",
    "                })\n",
    "                .catch(error => console.error('Error:', error));\n",
    "        }\n",
    "\n",
    "        function addFavorite(movieTitle, releaseDate, rating) {\n",
    "            const favoriteMoviesList = document.getElementById('favoriteMovies');\n",
    "            const listItem = document.createElement('li');\n",
    "            listItem.textContent = `${movieTitle} (Release Date: ${releaseDate}, Rating: ${rating}/10)`;\n",
    "            favoriteMoviesList.appendChild(listItem);\n",
    "        }\n",
    "    </script>\n",
    "</body>\n",
    "</html>\n"
   ]
  }
 ],
 "metadata": {
  "kernelspec": {
   "display_name": "Python 3",
   "language": "python",
   "name": "python3"
  },
  "language_info": {
   "codemirror_mode": {
    "name": "ipython",
    "version": 3
   },
   "file_extension": ".py",
   "mimetype": "text/x-python",
   "name": "python",
   "nbconvert_exporter": "python",
   "pygments_lexer": "ipython3",
   "version": "3.11.5"
  },
  "orig_nbformat": 4
 },
 "nbformat": 4,
 "nbformat_minor": 2
}
