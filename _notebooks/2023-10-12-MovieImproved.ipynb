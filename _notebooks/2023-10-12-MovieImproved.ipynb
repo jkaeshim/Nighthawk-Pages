{
 "cells": [
  {
   "cell_type": "markdown",
   "metadata": {},
   "source": [
    "---\n",
    "toc: true\n",
    "comments: false\n",
    "layout: post\n",
    "title: Movie API Improved\n",
    "description: Find Your Perfect Movie\n",
    "type: plans\n",
    "courses: { compsci: {week: 2} }\n",
    "---"
   ]
  },
  {
   "cell_type": "markdown",
   "metadata": {},
   "source": [
    "![TV](https://media.tenor.com/j86PjtdiAAUAAAAd/fight-club.gif)\n"
   ]
  },
  {
   "cell_type": "raw",
   "metadata": {},
   "source": [
    "<html>\n",
    "<head>\n",
    "    <title>Movie Filter</title>\n",
    "</head>\n",
    "<body>\n",
    "    <h1>Movie Filter</h1>\n",
    "    <form id=\"filterForm\">\n",
    "        <label for=\"leadActor\">Lead Actor:</label>\n",
    "        <input type=\"text\" id=\"leadActor\" name=\"leadActor\"><br><br>\n",
    "\n",
    "        <label for=\"genre\">Select Genre:</label>\n",
    "        <select id=\"genre\" name=\"genre\">\n",
    "            <option value=\"\">Any Genre</option>\n",
    "            <option value=\"28\">Action</option>\n",
    "            <option value=\"35\">Comedy</option>\n",
    "            <option value=\"27\">Horror</option>\n",
    "            <!-- Add more genre options as needed -->\n",
    "        </select><br><br>\n",
    "\n",
    "        <button type=\"button\" onclick=\"filterMovies()\">Filter Movies</button>\n",
    "    </form>\n",
    "\n",
    "    <button type=\"button\" onclick=\"getRandomMovie()\">Random Movie</button>\n",
    "\n",
    "    <h2>Filtered Movies:</h2>\n",
    "    <ul id=\"filteredMovies\"></ul>\n",
    "\n",
    "    <h2>Favorites:</h2>\n",
    "    <ul id=\"favoriteMovies\"></ul>\n",
    "\n",
    "    <script>\n",
    "        // Your existing JavaScript code remains unchanged\n",
    "\n",
    "        function addFavorite(movieTitle, releaseDate, rating) {\n",
    "            const favoriteMoviesList = document.getElementById('favoriteMovies');\n",
    "            const listItem = document.createElement('li');\n",
    "            listItem.textContent = `${movieTitle} (Release Date: ${releaseDate}, Rating: ${rating}/10)`;\n",
    "            favoriteMoviesList.appendChild(listItem);\n",
    "        }\n",
    "\n",
    "        // Update the filterMovies function to include a \"Favorite\" button\n",
    "        function filterMovies() {\n",
    "            // ... (your existing code)\n",
    "\n",
    "                            movieData.cast.forEach(movie => {\n",
    "                                if (!selectedGenre || movie.genre_ids.includes(parseInt(selectedGenre))) {\n",
    "                                    const movieTitle = movie.title;\n",
    "                                    const releaseDate = movie.release_date ? new Date(movie.release_date).getFullYear() : 'N/A';\n",
    "                                    const rating = movie.vote_average || 'N/A';\n",
    "                                    const listItem = document.createElement('li');\n",
    "                                    listItem.innerHTML = `${movieTitle} (Release Date: ${releaseDate}, Rating: ${rating}/10) \n",
    "                                                          <button onclick=\"addFavorite('${movieTitle}', '${releaseDate}', '${rating}')\">Favorite</button>`;\n",
    "                                    filteredMoviesList.appendChild(listItem);\n",
    "                                }\n",
    "                            });\n",
    "\n",
    "            // ... (your existing code)\n",
    "        }\n",
    "\n",
    "        // Your existing getRandomMovie function remains unchanged\n",
    "    </script>\n",
    "</body>\n",
    "</html>\n"
   ]
  }
 ],
 "metadata": {
  "kernelspec": {
   "display_name": "Python 3",
   "language": "python",
   "name": "python3"
  },
  "language_info": {
   "codemirror_mode": {
    "name": "ipython",
    "version": 3
   },
   "file_extension": ".py",
   "mimetype": "text/x-python",
   "name": "python",
   "nbconvert_exporter": "python",
   "pygments_lexer": "ipython3",
   "version": "3.11.5"
  },
  "orig_nbformat": 4
 },
 "nbformat": 4,
 "nbformat_minor": 2
}
