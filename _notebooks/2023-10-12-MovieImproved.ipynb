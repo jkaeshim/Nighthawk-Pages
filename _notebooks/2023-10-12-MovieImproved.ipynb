{
 "cells": [
  {
   "cell_type": "markdown",
   "metadata": {},
   "source": [
    "---\n",
    "toc: true\n",
    "comments: false\n",
    "layout: post\n",
    "title: Movie API Improved\n",
    "description: Find Your Perfect Movie\n",
    "type: plans\n",
    "courses: { compsci: {week: 2} }\n",
    "---"
   ]
  },
  {
   "cell_type": "code",
   "execution_count": null,
   "metadata": {
    "vscode": {
     "languageId": "javascript"
    }
   },
   "outputs": [],
   "source": [
    "<!DOCTYPE HTML>\n",
    "<html>\n",
    "<head>\n",
    "    <title>Movie Filter</title>\n",
    "</head>\n",
    "<body>\n",
    "    <h1>Movie Filter</h1>\n",
    "    <form id=\"filterForm\">\n",
    "        <label for=\"leadActor\">Lead Actor:</label>\n",
    "        <input type=\"text\" id=\"leadActor\" name=\"leadActor\"><br><br>\n",
    "\n",
    "        <button type=\"button\" onclick=\"filterMovies()\">Filter Movies</button>\n",
    "    </form>\n",
    "\n",
    "    <h2>Filtered Movies:</h2>\n",
    "    <ul id=\"filteredMovies\"></ul>\n",
    "\n",
    "    <script>\n",
    "        const apiKey = 'bd74380ad0f3a6bc2db537543036493a'; // Replace with your actual API key\n",
    "\n",
    "        function filterMovies() {\n",
    "            const leadActor = document.getElementById('leadActor').value;\n",
    "\n",
    "            // Construct the API URL with the provided actor name\n",
    "            const apiUrl = `https://api.themoviedb.org/3/search/person?api_key=${apiKey}&query=${leadActor}`;\n",
    "\n",
    "            // Make a fetch request to get the actor's ID\n",
    "            fetch(apiUrl)\n",
    "                .then(response => response.json())\n",
    "                .then(data => {\n",
    "                    // Check if the API request was successful and if there are results\n",
    "                    if (data.results && data.results.length > 0) {\n",
    "                        const actorId = data.results[0].id;\n",
    "\n",
    "                        // Construct the API URL to fetch the actor's movie credits\n",
    "                        const movieCreditsUrl = `https://api.themoviedb.org/3/person/${actorId}/movie_credits?api_key=${apiKey}`;\n",
    "\n",
    "                        // Make a fetch request to get the actor's movie credits\n",
    "                        fetch(movieCreditsUrl)\n",
    "                            .then(response => response.json())\n",
    "                            .then(movieData => {\n",
    "                                // Display movie titles in the 'filteredMovies' list\n",
    "                                const filteredMoviesList = document.getElementById('filteredMovies');\n",
    "                                filteredMoviesList.innerHTML = '';\n",
    "\n",
    "                                if (movieData.cast && movieData.cast.length > 0) {\n",
    "                                    movieData.cast.forEach(movie => {\n",
    "                                        const movieTitle = movie.title;\n",
    "                                        const listItem = document.createElement('li');\n",
    "                                        listItem.textContent = movieTitle;\n",
    "                                        filteredMoviesList.appendChild(listItem);\n",
    "                                    });\n",
    "                                } else {\n",
    "                                    const listItem = document.createElement('li');\n",
    "                                    listItem.textContent = 'No movie credits found for the actor.';\n",
    "                                    filteredMoviesList.appendChild(listItem);\n",
    "                                }\n",
    "                            })\n",
    "                            .catch(error => console.error('Error:', error));\n",
    "                    } else {\n",
    "                        alert('No results found for the provided actor.');\n",
    "                    }\n",
    "                })\n",
    "                .catch(error => console.error('Error:', error));\n",
    "        }\n",
    "    </script>\n",
    "</body>\n",
    "</html>\n"
   ]
  }
 ],
 "metadata": {
  "kernelspec": {
   "display_name": "Python 3",
   "language": "python",
   "name": "python3"
  },
  "language_info": {
   "codemirror_mode": {
    "name": "ipython",
    "version": 3
   },
   "file_extension": ".py",
   "mimetype": "text/x-python",
   "name": "python",
   "nbconvert_exporter": "python",
   "pygments_lexer": "ipython3",
   "version": "3.11.5"
  },
  "orig_nbformat": 4
 },
 "nbformat": 4,
 "nbformat_minor": 2
}
