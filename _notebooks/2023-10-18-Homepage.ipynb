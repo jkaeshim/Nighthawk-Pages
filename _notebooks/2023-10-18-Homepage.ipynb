{
 "cells": [
  {
   "cell_type": "markdown",
   "metadata": {},
   "source": [
    "---\n",
    "toc: true\n",
    "comments: false\n",
    "layout: post\n",
    "title: Home Page\n",
    "description: Find Your Perfect Movie\n",
    "type: plans\n",
    "courses: { compsci: {week: 3} }\n",
    "---"
   ]
  },
  {
   "cell_type": "markdown",
   "metadata": {},
   "source": [
    "<!DOCTYPE html>\n",
    "<html>\n",
    "<head>\n",
    "    <title>Movie Filter</title>\n",
    "</head>\n",
    "<body>\n",
    "    <h1>Click the Link Below</h1>\n",
    "    <p>This is a piece of text with an <a href=\"https://jkaeshim.github.io/Nighthawk-Pages/2023/10/12/MovieImproved_IPYNB_2_.html\">Movie Filter</a> to an external website.</p>\n",
    "</body>\n",
    "</html>\n"
   ]
  }
 ],
 "metadata": {
  "language_info": {
   "name": "python"
  }
 },
 "nbformat": 4,
 "nbformat_minor": 2
}
